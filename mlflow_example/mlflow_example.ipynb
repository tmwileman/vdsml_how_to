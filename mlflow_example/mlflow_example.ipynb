{
 "cells": [
  {
   "cell_type": "code",
   "execution_count": null,
   "metadata": {},
   "outputs": [],
   "source": [
    "# Install MLflow\n",
    "! pip install mlflow"
   ]
  },
  {
   "cell_type": "markdown",
   "metadata": {},
   "source": [
    "# Using the Tracking API\n",
    "\n",
    "The MLflow Tracking API lets you log metrics and artifacts (files) from your data science code and see a history of your runs. You can try it out by writing a simple Python script as follows (this example is also included in quickstart/mlflow_tracking.py):"
   ]
  },
  {
   "cell_type": "code",
   "execution_count": 1,
   "metadata": {},
   "outputs": [],
   "source": [
    "import os\n",
    "from random import random, randint\n",
    "from mlflow import log_metric, log_param, log_artifacts\n",
    "\n",
    "# MLflow Tracking is organized around the concept of runs, which are \n",
    "# executions of some piece of data science code. Each run records the \n",
    "# following information: Code Version, Start and end time of the run, Source\n",
    "# Parameters, Metrics, \n",
    "\n",
    "# Log a parameter (key-value pair)\n",
    "# Key-value input parameters of your choice. \n",
    "# Both keys and values are strings.\n",
    "log_param(\"param1\", randint(0, 100))\n",
    "\n",
    "# Key-value metrics, where the value is numeric. \n",
    "# Each metric can be updated throughout the course of the run (for example, to # track how your model’s loss function is converging), and MLflow records and # lets you visualize the metric’s full history.\n",
    "log_metric(\"foo\", random())"
   ]
  },
  {
   "cell_type": "markdown",
   "metadata": {},
   "source": [
    "# Viewing the Tracking UI\n",
    "\n",
    "By default, wherever you run your program, the tracking API writes data into files into a local ./mlruns directory. You can then run MLflow’s Tracking UI:"
   ]
  },
  {
   "cell_type": "code",
   "execution_count": 2,
   "metadata": {},
   "outputs": [
    {
     "name": "stdout",
     "output_type": "stream",
     "text": [
      "[2022-08-18 19:48:34 -0400] [69496] [INFO] Starting gunicorn 20.1.0\n",
      "[2022-08-18 19:48:34 -0400] [69496] [INFO] Listening at: http://127.0.0.1:5000 (69496)\n",
      "[2022-08-18 19:48:34 -0400] [69496] [INFO] Using worker: sync\n",
      "[2022-08-18 19:48:34 -0400] [69497] [INFO] Booting worker with pid: 69497\n",
      "^C\n",
      "[2022-08-18 19:50:13 -0400] [69496] [INFO] Handling signal: int\n",
      "[2022-08-18 19:50:13 -0400] [69497] [INFO] Worker exiting (pid: 69497)\n"
     ]
    }
   ],
   "source": [
    "! mlflow ui"
   ]
  },
  {
   "cell_type": "code",
   "execution_count": null,
   "metadata": {},
   "outputs": [],
   "source": []
  }
 ],
 "metadata": {
  "kernelspec": {
   "display_name": "Python 3.9.13 64-bit",
   "language": "python",
   "name": "python3"
  },
  "language_info": {
   "codemirror_mode": {
    "name": "ipython",
    "version": 3
   },
   "file_extension": ".py",
   "mimetype": "text/x-python",
   "name": "python",
   "nbconvert_exporter": "python",
   "pygments_lexer": "ipython3",
   "version": "3.9.13"
  },
  "orig_nbformat": 4,
  "vscode": {
   "interpreter": {
    "hash": "b0fa6594d8f4cbf19f97940f81e996739fb7646882a419484c72d19e05852a7e"
   }
  }
 },
 "nbformat": 4,
 "nbformat_minor": 2
}
